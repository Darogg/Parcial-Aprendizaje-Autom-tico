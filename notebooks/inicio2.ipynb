{
 "cells": [
  {
   "cell_type": "code",
   "execution_count": 1,
   "metadata": {},
   "outputs": [],
   "source": [
    "import pandas as pd\n",
    "import numpy as np"
   ]
  },
  {
   "cell_type": "code",
   "execution_count": 2,
   "metadata": {},
   "outputs": [
    {
     "name": "stderr",
     "output_type": "stream",
     "text": [
      "C:\\Users\\User\\AppData\\Local\\Temp\\ipykernel_24092\\271225030.py:1: DtypeWarning: Columns (16,36) have mixed types. Specify dtype option on import or set low_memory=False.\n",
      "  data = pd.read_csv(\"produccin-de-pozos-de-gas-y-petrleo-2023.csv\")\n"
     ]
    }
   ],
   "source": [
    "data = pd.read_csv(\"produccin-de-pozos-de-gas-y-petrleo-2023.csv\")"
   ]
  },
  {
   "cell_type": "code",
   "execution_count": 4,
   "metadata": {},
   "outputs": [
    {
     "name": "stdout",
     "output_type": "stream",
     "text": [
      "<class 'pandas.core.frame.DataFrame'>\n",
      "RangeIndex: 716462 entries, 0 to 716461\n",
      "Data columns (total 38 columns):\n",
      " #   Column                  Non-Null Count   Dtype  \n",
      "---  ------                  --------------   -----  \n",
      " 0   idempresa               716462 non-null  object \n",
      " 1   anio                    716462 non-null  int64  \n",
      " 2   mes                     716462 non-null  int64  \n",
      " 3   idpozo                  716462 non-null  int64  \n",
      " 4   prod_pet                716462 non-null  float64\n",
      " 5   prod_gas                716462 non-null  float64\n",
      " 6   prod_agua               716462 non-null  float64\n",
      " 7   iny_agua                716462 non-null  float64\n",
      " 8   iny_gas                 716462 non-null  float64\n",
      " 9   iny_co2                 716462 non-null  float64\n",
      " 10  iny_otro                716462 non-null  float64\n",
      " 11  tef                     716462 non-null  float64\n",
      " 12  vida_util               18059 non-null   float64\n",
      " 13  tipoextraccion          716435 non-null  object \n",
      " 14  tipoestado              716435 non-null  object \n",
      " 15  tipopozo                716435 non-null  object \n",
      " 16  observaciones           48832 non-null   object \n",
      " 17  fechaingreso            716462 non-null  object \n",
      " 18  rectificado             716462 non-null  object \n",
      " 19  habilitado              716462 non-null  object \n",
      " 20  idusuario               716462 non-null  int64  \n",
      " 21  empresa                 716462 non-null  object \n",
      " 22  sigla                   716462 non-null  object \n",
      " 23  formprod                692342 non-null  object \n",
      " 24  profundidad             716462 non-null  float64\n",
      " 25  formacion               691330 non-null  object \n",
      " 26  idareapermisoconcesion  716462 non-null  object \n",
      " 27  areapermisoconcesion    716462 non-null  object \n",
      " 28  idareayacimiento        716462 non-null  object \n",
      " 29  areayacimiento          716462 non-null  object \n",
      " 30  cuenca                  716435 non-null  object \n",
      " 31  provincia               716462 non-null  object \n",
      " 32  tipo_de_recurso         716462 non-null  object \n",
      " 33  proyecto                716462 non-null  object \n",
      " 34  clasificacion           563519 non-null  object \n",
      " 35  subclasificacion        563519 non-null  object \n",
      " 36  sub_tipo_recurso        30964 non-null   object \n",
      " 37  fecha_data              716462 non-null  object \n",
      "dtypes: float64(10), int64(4), object(24)\n",
      "memory usage: 207.7+ MB\n"
     ]
    }
   ],
   "source": [
    "data.info()"
   ]
  },
  {
   "cell_type": "code",
   "execution_count": 6,
   "metadata": {},
   "outputs": [
    {
     "data": {
      "text/plain": [
       "Index(['idempresa', 'anio', 'mes', 'idpozo', 'prod_pet', 'prod_gas',\n",
       "       'prod_agua', 'iny_agua', 'iny_gas', 'iny_co2', 'iny_otro', 'tef',\n",
       "       'vida_util', 'tipoextraccion', 'tipoestado', 'tipopozo',\n",
       "       'observaciones', 'fechaingreso', 'rectificado', 'habilitado',\n",
       "       'idusuario', 'empresa', 'sigla', 'formprod', 'profundidad', 'formacion',\n",
       "       'idareapermisoconcesion', 'areapermisoconcesion', 'idareayacimiento',\n",
       "       'areayacimiento', 'cuenca', 'provincia', 'tipo_de_recurso', 'proyecto',\n",
       "       'clasificacion', 'subclasificacion', 'sub_tipo_recurso', 'fecha_data'],\n",
       "      dtype='object')"
      ]
     },
     "execution_count": 6,
     "metadata": {},
     "output_type": "execute_result"
    }
   ],
   "source": [
    "data.columns"
   ]
  }
 ],
 "metadata": {
  "kernelspec": {
   "display_name": "base",
   "language": "python",
   "name": "python3"
  },
  "language_info": {
   "codemirror_mode": {
    "name": "ipython",
    "version": 3
   },
   "file_extension": ".py",
   "mimetype": "text/x-python",
   "name": "python",
   "nbconvert_exporter": "python",
   "pygments_lexer": "ipython3",
   "version": "3.8.13"
  }
 },
 "nbformat": 4,
 "nbformat_minor": 2
}
